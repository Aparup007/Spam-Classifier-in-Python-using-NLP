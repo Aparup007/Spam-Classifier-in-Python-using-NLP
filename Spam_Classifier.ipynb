{
  "nbformat": 4,
  "nbformat_minor": 0,
  "metadata": {
    "colab": {
      "name": "Spam Classifier.ipynb",
      "provenance": []
    },
    "kernelspec": {
      "name": "python3",
      "display_name": "Python 3"
    },
    "language_info": {
      "name": "python"
    }
  },
  "cells": [
    {
      "cell_type": "markdown",
      "metadata": {
        "id": "HdPC3u_yR7v_"
      },
      "source": [
        "### Bulding a Spam Classifier in Python using NLP\n",
        "\n",
        "---\n",
        "\n",
        "---\n",
        "\n",
        "\n",
        "\n",
        "\n",
        "\n"
      ]
    },
    {
      "cell_type": "code",
      "metadata": {
        "colab": {
          "base_uri": "https://localhost:8080/"
        },
        "id": "hKSYRnIOR060",
        "outputId": "af79b1ea-2c31-4267-a9e5-8c3de082e165"
      },
      "source": [
        "from google.colab import drive\n",
        "drive.mount('/content/drive')"
      ],
      "execution_count": 119,
      "outputs": [
        {
          "output_type": "stream",
          "text": [
            "Drive already mounted at /content/drive; to attempt to forcibly remount, call drive.mount(\"/content/drive\", force_remount=True).\n"
          ],
          "name": "stdout"
        }
      ]
    },
    {
      "cell_type": "code",
      "metadata": {
        "id": "qL6eqiemrRZ3"
      },
      "source": [
        "import pandas as pd"
      ],
      "execution_count": 120,
      "outputs": []
    },
    {
      "cell_type": "code",
      "metadata": {
        "id": "0Y6-DaR1rRcZ"
      },
      "source": [
        "# Data set is avaiable in UCI machine learning repository as 'smsspamcollection' \n",
        "# we have separated the columns using '\\t' and have assigned with different names \n",
        "msgs = pd.read_csv('/content/drive/MyDrive/CVS Excel Files /smsspamcollection/SMSSpamCollection',sep='\\t',names=[\"label\",\"message\"])"
      ],
      "execution_count": 121,
      "outputs": []
    },
    {
      "cell_type": "code",
      "metadata": {
        "colab": {
          "base_uri": "https://localhost:8080/",
          "height": 191
        },
        "id": "eRhUagrprRed",
        "outputId": "3a806bed-f096-4ad7-959a-386939052045"
      },
      "source": [
        "msgs.head()"
      ],
      "execution_count": 122,
      "outputs": [
        {
          "output_type": "execute_result",
          "data": {
            "text/html": [
              "<div>\n",
              "<style scoped>\n",
              "    .dataframe tbody tr th:only-of-type {\n",
              "        vertical-align: middle;\n",
              "    }\n",
              "\n",
              "    .dataframe tbody tr th {\n",
              "        vertical-align: top;\n",
              "    }\n",
              "\n",
              "    .dataframe thead th {\n",
              "        text-align: right;\n",
              "    }\n",
              "</style>\n",
              "<table border=\"1\" class=\"dataframe\">\n",
              "  <thead>\n",
              "    <tr style=\"text-align: right;\">\n",
              "      <th></th>\n",
              "      <th>label</th>\n",
              "      <th>message</th>\n",
              "    </tr>\n",
              "  </thead>\n",
              "  <tbody>\n",
              "    <tr>\n",
              "      <th>0</th>\n",
              "      <td>ham</td>\n",
              "      <td>Go until jurong point, crazy.. Available only ...</td>\n",
              "    </tr>\n",
              "    <tr>\n",
              "      <th>1</th>\n",
              "      <td>ham</td>\n",
              "      <td>Ok lar... Joking wif u oni...</td>\n",
              "    </tr>\n",
              "    <tr>\n",
              "      <th>2</th>\n",
              "      <td>spam</td>\n",
              "      <td>Free entry in 2 a wkly comp to win FA Cup fina...</td>\n",
              "    </tr>\n",
              "    <tr>\n",
              "      <th>3</th>\n",
              "      <td>ham</td>\n",
              "      <td>U dun say so early hor... U c already then say...</td>\n",
              "    </tr>\n",
              "    <tr>\n",
              "      <th>4</th>\n",
              "      <td>ham</td>\n",
              "      <td>Nah I don't think he goes to usf, he lives aro...</td>\n",
              "    </tr>\n",
              "  </tbody>\n",
              "</table>\n",
              "</div>"
            ],
            "text/plain": [
              "  label                                            message\n",
              "0   ham  Go until jurong point, crazy.. Available only ...\n",
              "1   ham                      Ok lar... Joking wif u oni...\n",
              "2  spam  Free entry in 2 a wkly comp to win FA Cup fina...\n",
              "3   ham  U dun say so early hor... U c already then say...\n",
              "4   ham  Nah I don't think he goes to usf, he lives aro..."
            ]
          },
          "metadata": {
            "tags": []
          },
          "execution_count": 122
        }
      ]
    },
    {
      "cell_type": "code",
      "metadata": {
        "colab": {
          "base_uri": "https://localhost:8080/"
        },
        "id": "SBEfI85HrRh9",
        "outputId": "c091782f-177a-4c98-baf9-9ec9727a70ae"
      },
      "source": [
        "msgs.isnull().sum()"
      ],
      "execution_count": 123,
      "outputs": [
        {
          "output_type": "execute_result",
          "data": {
            "text/plain": [
              "label      0\n",
              "message    0\n",
              "dtype: int64"
            ]
          },
          "metadata": {
            "tags": []
          },
          "execution_count": 123
        }
      ]
    },
    {
      "cell_type": "code",
      "metadata": {
        "id": "QQ8QlqMEtWpP"
      },
      "source": [
        "#Data cleaning and preprocessing\n",
        "import re\n",
        "import nltk\n",
        "from nltk.corpus import stopwords\n",
        "from nltk.stem.porter import PorterStemmer"
      ],
      "execution_count": 124,
      "outputs": []
    },
    {
      "cell_type": "code",
      "metadata": {
        "colab": {
          "base_uri": "https://localhost:8080/"
        },
        "id": "gWm6uocFvGoi",
        "outputId": "26349533-c5bd-4949-9b96-49e73adf2eb4"
      },
      "source": [
        "nltk.download('stopwords')"
      ],
      "execution_count": 125,
      "outputs": [
        {
          "output_type": "stream",
          "text": [
            "[nltk_data] Downloading package stopwords to /root/nltk_data...\n",
            "[nltk_data]   Package stopwords is already up-to-date!\n"
          ],
          "name": "stdout"
        },
        {
          "output_type": "execute_result",
          "data": {
            "text/plain": [
              "True"
            ]
          },
          "metadata": {
            "tags": []
          },
          "execution_count": 125
        }
      ]
    },
    {
      "cell_type": "markdown",
      "metadata": {
        "id": "ZK_TOv1WTHfO"
      },
      "source": [
        "# Using stemming and bag of words technique "
      ]
    },
    {
      "cell_type": "code",
      "metadata": {
        "id": "3qrqfu5NOxy2"
      },
      "source": [
        "# We have used stemming technique here \n",
        "ps = PorterStemmer()"
      ],
      "execution_count": 126,
      "outputs": []
    },
    {
      "cell_type": "code",
      "metadata": {
        "colab": {
          "base_uri": "https://localhost:8080/"
        },
        "id": "eBvcEkWkO4Fb",
        "outputId": "e456c678-baff-4ff1-f978-90806150ca3b"
      },
      "source": [
        "len(msgs)"
      ],
      "execution_count": 127,
      "outputs": [
        {
          "output_type": "execute_result",
          "data": {
            "text/plain": [
              "5572"
            ]
          },
          "metadata": {
            "tags": []
          },
          "execution_count": 127
        }
      ]
    },
    {
      "cell_type": "code",
      "metadata": {
        "id": "NgSEoODbtWwi"
      },
      "source": [
        "# Creating the Bag of Words\n",
        "corpus = []\n",
        "for i in range(0, len(msgs)):\n",
        "    msgs_new = re.sub('[^a-zA-Z]', ' ', msgs['message'][i])\n",
        "    msgs_new = msgs_new.lower()\n",
        "    msgs_new = msgs_new.split()\n",
        "    msgs_new = [ps.stem(word) for word in msgs_new if not word in stopwords.words('english')]\n",
        "    msgs_new = ' '.join(msgs_new)\n",
        "    corpus.append(msgs_new)   "
      ],
      "execution_count": 128,
      "outputs": []
    },
    {
      "cell_type": "code",
      "metadata": {
        "id": "coU9xSU3yP8k"
      },
      "source": [
        "from sklearn.feature_extraction.text import CountVectorizer\n",
        "cv = CountVectorizer(max_features=4500)\n",
        "X = cv.fit_transform(corpus).toarray()"
      ],
      "execution_count": 129,
      "outputs": []
    },
    {
      "cell_type": "code",
      "metadata": {
        "colab": {
          "base_uri": "https://localhost:8080/"
        },
        "id": "CgTyUfX_yQAA",
        "outputId": "5fcba11e-eed6-4c99-8cd8-fb9d5462f4fb"
      },
      "source": [
        "X.shape"
      ],
      "execution_count": 130,
      "outputs": [
        {
          "output_type": "execute_result",
          "data": {
            "text/plain": [
              "(5572, 4500)"
            ]
          },
          "metadata": {
            "tags": []
          },
          "execution_count": 130
        }
      ]
    },
    {
      "cell_type": "code",
      "metadata": {
        "id": "AW4jMx2ay5JO"
      },
      "source": [
        "# Converting dependet variables to dummies \n",
        "y=pd.get_dummies(msgs['label'])\n",
        "y=y.iloc[:,1].values"
      ],
      "execution_count": 131,
      "outputs": []
    },
    {
      "cell_type": "code",
      "metadata": {
        "id": "nw93wV8zy5L1"
      },
      "source": [
        "# Train Test split\n",
        "from sklearn.model_selection import train_test_split\n",
        "X_train, X_test, y_train, y_test = train_test_split(X, y, test_size = 0.20, random_state = 0)"
      ],
      "execution_count": 132,
      "outputs": []
    },
    {
      "cell_type": "code",
      "metadata": {
        "id": "rXTbgtfHy5OB"
      },
      "source": [
        "# Using naive-bayes model\n",
        "from sklearn.naive_bayes import MultinomialNB\n",
        "spam_detect_model = MultinomialNB().fit(X_train, y_train)"
      ],
      "execution_count": 133,
      "outputs": []
    },
    {
      "cell_type": "code",
      "metadata": {
        "id": "uWux3uMD3bXQ"
      },
      "source": [
        "y_pred=spam_detect_model.predict(X_test)"
      ],
      "execution_count": 134,
      "outputs": []
    },
    {
      "cell_type": "code",
      "metadata": {
        "id": "9AF3LDI83bbJ"
      },
      "source": [
        "from sklearn.metrics import confusion_matrix,precision_score,f1_score"
      ],
      "execution_count": 135,
      "outputs": []
    },
    {
      "cell_type": "code",
      "metadata": {
        "id": "xFqobncG3bcn"
      },
      "source": [
        "conf_m =confusion_matrix(y_test,y_pred)"
      ],
      "execution_count": 136,
      "outputs": []
    },
    {
      "cell_type": "code",
      "metadata": {
        "colab": {
          "base_uri": "https://localhost:8080/",
          "height": 298
        },
        "id": "4_XsJGbX3be9",
        "outputId": "8a95bc0f-3911-49fb-c2a8-a9b07ca573d2"
      },
      "source": [
        "#Confusion Matrix\n",
        "import seaborn as sns\n",
        "import matplotlib.pyplot as plt\n",
        "\n",
        "sns.heatmap(conf_m,annot=True,cmap='Blues',fmt='g')\n",
        "plt.title('Confusion Matrix',fontsize=16)"
      ],
      "execution_count": 137,
      "outputs": [
        {
          "output_type": "execute_result",
          "data": {
            "text/plain": [
              "Text(0.5, 1.0, 'Confusion Matrix')"
            ]
          },
          "metadata": {
            "tags": []
          },
          "execution_count": 137
        },
        {
          "output_type": "display_data",
          "data": {
            "image/png": "[encoded data removed]",
            "text/plain": [
              "<Figure size 432x288 with 2 Axes>"
            ]
          },
          "metadata": {
            "tags": [],
            "needs_background": "light"
          }
        }
      ]
    },
    {
      "cell_type": "code",
      "metadata": {
        "colab": {
          "base_uri": "https://localhost:8080/"
        },
        "id": "ukZCPgZB4OQs",
        "outputId": "ce408efb-c720-4826-bb84-62c92c05120e"
      },
      "source": [
        "print(\"F1 Score is {}, and Precision Score is {}\".format(f1_score(y_test,y_pred),precision_score(y_test,y_pred)))"
      ],
      "execution_count": 138,
      "outputs": [
        {
          "output_type": "stream",
          "text": [
            "F1 Score is 0.9503105590062112, and Precision Score is 0.9444444444444444\n"
          ],
          "name": "stdout"
        }
      ]
    },
    {
      "cell_type": "markdown",
      "metadata": {
        "id": "HOFI04_VckWX"
      },
      "source": [
        "# Using Lemmatization and TF-IDF method"
      ]
    },
    {
      "cell_type": "code",
      "metadata": {
        "colab": {
          "base_uri": "https://localhost:8080/"
        },
        "id": "p-LTg1bB4OUQ",
        "outputId": "30d2042a-435d-4d01-8e9a-67807fee4faf"
      },
      "source": [
        "# Lemmatization\n",
        "from nltk.stem import WordNetLemmatizer\n",
        "wl = WordNetLemmatizer()\n",
        "nltk.download('wordnet')"
      ],
      "execution_count": 139,
      "outputs": [
        {
          "output_type": "stream",
          "text": [
            "[nltk_data] Downloading package wordnet to /root/nltk_data...\n",
            "[nltk_data]   Package wordnet is already up-to-date!\n"
          ],
          "name": "stdout"
        },
        {
          "output_type": "execute_result",
          "data": {
            "text/plain": [
              "True"
            ]
          },
          "metadata": {
            "tags": []
          },
          "execution_count": 139
        }
      ]
    },
    {
      "cell_type": "code",
      "metadata": {
        "id": "L6fwQpqgT3Nt"
      },
      "source": [
        "corpus = []\n",
        "for i in range(0, len(msgs)):\n",
        "    msgs_new = re.sub('[^a-zA-Z]', ' ', msgs['message'][i])\n",
        "    msgs_new = msgs_new.lower()\n",
        "    msgs_new = msgs_new.split()\n",
        "    msgs_new = [wl.lemmatize(word) for word in msgs_new if not word in stopwords.words('english')]\n",
        "    msgs_new = ' '.join(msgs_new)\n",
        "    corpus.append(msgs_new)   "
      ],
      "execution_count": 140,
      "outputs": []
    },
    {
      "cell_type": "code",
      "metadata": {
        "id": "h7JY-o-9UnXL"
      },
      "source": [
        "# using ID-IDF method\n",
        "from sklearn.feature_extraction.text import TfidfVectorizer\n",
        "cv = TfidfVectorizer()\n",
        "X = cv.fit_transform(corpus).toarray()"
      ],
      "execution_count": 141,
      "outputs": []
    },
    {
      "cell_type": "code",
      "metadata": {
        "id": "M-FM2-KzUncR"
      },
      "source": [
        "# Train Test split\n",
        "from sklearn.model_selection import train_test_split\n",
        "X_train, X_test, y_train, y_test = train_test_split(X, y, test_size = 0.20, random_state = 0)"
      ],
      "execution_count": 142,
      "outputs": []
    },
    {
      "cell_type": "code",
      "metadata": {
        "id": "pc1bGyfUUnfv"
      },
      "source": [
        "# Using naive-bayes model\n",
        "from sklearn.naive_bayes import MultinomialNB\n",
        "spam_detect_model = MultinomialNB().fit(X_train, y_train)"
      ],
      "execution_count": 143,
      "outputs": []
    },
    {
      "cell_type": "code",
      "metadata": {
        "id": "s1s-6kmQT3QI"
      },
      "source": [
        "y_pred=spam_detect_model.predict(X_test)"
      ],
      "execution_count": 144,
      "outputs": []
    },
    {
      "cell_type": "code",
      "metadata": {
        "id": "AAics6m3T3Tl"
      },
      "source": [
        "from sklearn.metrics import confusion_matrix,precision_score,f1_score"
      ],
      "execution_count": 145,
      "outputs": []
    },
    {
      "cell_type": "code",
      "metadata": {
        "id": "A8OdXwJxVo2y"
      },
      "source": [
        "conf_m =confusion_matrix(y_test,y_pred)"
      ],
      "execution_count": 146,
      "outputs": []
    },
    {
      "cell_type": "code",
      "metadata": {
        "colab": {
          "base_uri": "https://localhost:8080/",
          "height": 298
        },
        "id": "WpIqosK4Vo5F",
        "outputId": "d34edb78-f9d7-49b1-de64-28301ab0f079"
      },
      "source": [
        "#Confusion Matrix\n",
        "import seaborn as sns\n",
        "import matplotlib.pyplot as plt\n",
        "\n",
        "sns.heatmap(conf_m,annot=True,cmap='Blues',fmt='g')\n",
        "plt.title('Confusion Matrix',fontsize=16)"
      ],
      "execution_count": 147,
      "outputs": [
        {
          "output_type": "execute_result",
          "data": {
            "text/plain": [
              "Text(0.5, 1.0, 'Confusion Matrix')"
            ]
          },
          "metadata": {
            "tags": []
          },
          "execution_count": 147
        },
        {
          "output_type": "display_data",
          "data": {
            "image/png": "[encoded data removed]",
            "text/plain": [
              "<Figure size 432x288 with 2 Axes>"
            ]
          },
          "metadata": {
            "tags": [],
            "needs_background": "light"
          }
        }
      ]
    },
    {
      "cell_type": "code",
      "metadata": {
        "colab": {
          "base_uri": "https://localhost:8080/"
        },
        "id": "PjxJ2bp3Vo89",
        "outputId": "70bfc7a4-ac9b-4bd7-b7ec-5154ef76d094"
      },
      "source": [
        "print(\"F1 Score is {}, and Precision Score is {}\".format(f1_score(y_test,y_pred),precision_score(y_test,y_pred)))"
      ],
      "execution_count": 148,
      "outputs": [
        {
          "output_type": "stream",
          "text": [
            "F1 Score is 0.8927335640138409, and Precision Score is 1.0\n"
          ],
          "name": "stdout"
        }
      ]
    }
  ]
}